{
  "nbformat": 4,
  "nbformat_minor": 0,
  "metadata": {
    "colab": {
      "name": "Recitation1.ipynb",
      "provenance": [],
      "collapsed_sections": [],
      "toc_visible": true,
      "include_colab_link": true
    },
    "kernelspec": {
      "display_name": "Python 3",
      "language": "python",
      "name": "python3"
    },
    "language_info": {
      "codemirror_mode": {
        "name": "ipython",
        "version": 3
      },
      "file_extension": ".py",
      "mimetype": "text/x-python",
      "name": "python",
      "nbconvert_exporter": "python",
      "pygments_lexer": "ipython3",
      "version": "3.8.3"
    }
  },
  "cells": [
    {
      "cell_type": "markdown",
      "metadata": {
        "id": "view-in-github",
        "colab_type": "text"
      },
      "source": [
        "<a href=\"https://colab.research.google.com/github/Gracie-z/Data-Structure/blob/master/Recitation1.ipynb\" target=\"_parent\"><img src=\"https://colab.research.google.com/assets/colab-badge.svg\" alt=\"Open In Colab\"/></a>"
      ]
    },
    {
      "cell_type": "markdown",
      "metadata": {
        "id": "_2aBFvnBlUWb"
      },
      "source": [
        "# Topic 1 (Creating a class)"
      ]
    },
    {
      "cell_type": "code",
      "metadata": {
        "id": "J7WwvJmWlNfC"
      },
      "source": [
        "class Student:\n",
        "    def __init__(self, name, age, GPA):\n",
        "        self.name = name\n",
        "        self.age = age\n",
        "        self.gpa = GPA\n",
        "\n",
        "\n",
        "    def get_GPA(self):\n",
        "        return self.gpa\n",
        "\n",
        "    def set_GPA(self, GPA):\n",
        "        self.gpa = GPA \n",
        "\n",
        "\n",
        "def main():\n",
        "    bob = Student(\"Bob\", 15, 3.0)\n",
        "    print(bob.get_GPA()) #3.0\n",
        "\n",
        "    bob.set_GPA(4.0)\n",
        "    print(bob.get_GPA()) #4.0\n",
        "\n",
        "if __name__ == '__main__':\n",
        "    main()"
      ],
      "execution_count": null,
      "outputs": []
    },
    {
      "cell_type": "markdown",
      "metadata": {
        "id": "VW4yPVlTqZL4"
      },
      "source": [
        "What does the keyword self do in Python? "
      ]
    },
    {
      "cell_type": "markdown",
      "metadata": {
        "id": "g6t8mixlqg8h"
      },
      "source": [
        "It identifies an instance of an object.\n"
      ]
    },
    {
      "cell_type": "markdown",
      "metadata": {
        "id": "sD2qwN7pqmPz"
      },
      "source": [
        "# Topic 2 (underscore __*********__ functions):"
      ]
    },
    {
      "cell_type": "code",
      "metadata": {
        "id": "qu2SvigJ1W1r"
      },
      "source": [
        "class Pizza:\n",
        "    def __init__(self, price):\n",
        "        self.price = price\n",
        "\n",
        "    def __add__(self, other):\n",
        "        new_pizza = Pizza(self.price)\n",
        "        new_pizza += other\n",
        "        return new_pizza\n",
        "\n",
        "    def __iadd__(self, other):\n",
        "        self.price += other.price\n",
        "        return self\n",
        "\n",
        "    def __str__(self):\n",
        "        return \"the price is, \" + str(self.price)\n",
        "\n",
        "\n",
        "\n",
        "def main():\n",
        "    pizza1 = Pizza(5)\n",
        "    pizza2 = Pizza(6)\n",
        "    pizza1 + pizza2\n",
        "    pizza1 += pizza2\n",
        "    print(pizza1)\n",
        "\n",
        "if __name__ == '__main__':\n",
        "    main()\n"
      ],
      "execution_count": null,
      "outputs": []
    },
    {
      "cell_type": "markdown",
      "metadata": {
        "id": "TdfxXxq5qzK3"
      },
      "source": [
        "a) What does the code above print? Don’t run the program, try to predict the output first."
      ]
    },
    {
      "cell_type": "markdown",
      "metadata": {
        "id": "_JCQ43Plq0MP"
      },
      "source": [
        "the price is, 11\n"
      ]
    },
    {
      "cell_type": "markdown",
      "metadata": {
        "id": "MDXriBX6q0_S"
      },
      "source": [
        "b) Complete the following table, suppose the variable name is X. When will these underscore\n",
        "functions get called? Answer for 1st row has been given for your convenience."
      ]
    },
    {
      "cell_type": "markdown",
      "metadata": {
        "id": "Y7k8-EPErfCG"
      },
      "source": [
        "Double-click to edit\n",
        "\n",
        "1.   X.__getitem__(self, index) : X[index]\n",
        "2.   X.__setitem__(self, index, value) : X[index] = value\n",
        "3.   X.__delitem__(self, index) : del X[ndex]\n",
        "4.   X.__add__(self, other) : X + other\n",
        "5.   X.__iadd__(self, other) : X += other\n",
        "6.   X.__eq__(self, other) : X == other\n",
        "7.   X.__len__(self) : len(X)\n",
        "8.   X.__str__(self) : print(X)\n",
        "9.   X.__repr__(self) : print(X)\n",
        "10.  X.__contains__(self, value) : value in X\n",
        "11.  X.__iter__(self) :  for i in X\n",
        "\n",
        "\n",
        "\n",
        "\n",
        "\n"
      ]
    },
    {
      "cell_type": "markdown",
      "metadata": {
        "id": "kN40sS40mHWj"
      },
      "source": [
        "# Topic 3 (Inheritance):"
      ]
    },
    {
      "cell_type": "code",
      "metadata": {
        "id": "j_DnX7mdmAz-"
      },
      "source": [
        "class Tree:\n",
        "    def __init__(self, name, age):\n",
        "        self._name = name\n",
        "        self._age = age\n",
        "\n",
        "    def get_name(self):\n",
        "        return self._name\n",
        "\n",
        "\n",
        "class Palm(Tree): # Palm(Tree) means, Palm inherits Tree.\n",
        "    def __init__(self, name, age, color):\n",
        "        # First you have to initialize the parent class. What should we write here?\n",
        "        self.name = name\n",
        "        self.age = age\n",
        "        self.color = color \n",
        "        \n",
        "        self._color = color\n",
        "\n",
        "    def get_color(self):\n",
        "        return self._color\n",
        "\n",
        "def main():\n",
        "    palm1 = Palm(\"Lucky\", 30, \"Green\")\n",
        "    print(palm1.get_name())  # What does this print (1)?\n",
        "    print(palm1.get_color())  # What does this print (2)?\n",
        "    tree1 = Tree(\"Funny\", 20)\n",
        "    print(tree1.get_name())  # What does this print (3)?\n",
        "    print(tree1.get_color())  # What does this print (4)?\n",
        "\n",
        "if __name__ == '__main__':\n",
        "    main()"
      ],
      "execution_count": null,
      "outputs": []
    },
    {
      "cell_type": "markdown",
      "metadata": {
        "id": "CngWbGqis8V2"
      },
      "source": [
        "What does the code above print? Don’t run the program, try to predict the output first."
      ]
    },
    {
      "cell_type": "markdown",
      "metadata": {
        "id": "EsYZpojwtBQ8"
      },
      "source": [
        "1.   What is the output for print (1)? Lucky\n",
        "2.   What is the output for print (2)? Green\n",
        "3.   What is the output for print (3)? Funny\n",
        "4.   What is the output for print (4)? It will return an error message because the Tree Parent class does not have a \"get_color\" method.\n",
        "\n",
        "\n"
      ]
    },
    {
      "cell_type": "markdown",
      "metadata": {
        "id": "WouD0exPmtDq"
      },
      "source": [
        "# Topic 4 (Misc):"
      ]
    },
    {
      "cell_type": "code",
      "metadata": {
        "id": "Q-ElgNctmxUN",
        "colab": {
          "base_uri": "https://localhost:8080/"
        },
        "outputId": "dc6e420d-955c-4105-d86a-e01099631199"
      },
      "source": [
        "# Coding 1\n",
        "\n",
        "class Shape:\n",
        "    def __init__(self, name):\n",
        "      self._name = name\n",
        "\n",
        "    def get_name(self):\n",
        "      return self._name\n",
        "\n",
        "class Circle(Shape):\n",
        "    def __init__(self, name, radius):\n",
        "        super().__init__(name)\n",
        "        self.radius = radius\n",
        "\n",
        "    def calc_area(self):\n",
        "        return 3.14*self.radius**2\n",
        "\n",
        "    def calc_perimeter(self):\n",
        "        return 2*3.14*self.radius\n",
        "\n",
        "class Rectangle(Shape):\n",
        "    def __init__(self, name, width, height):\n",
        "        super().__init__(name)\n",
        "        self.width = width\n",
        "        self.height = height\n",
        "\n",
        "    def calc_area(self):\n",
        "        return self.width * self.height\n",
        "\n",
        "    def calc_perimeter(self):\n",
        "        return 2*(self.width + self.height)\n",
        "\n",
        "def main():\n",
        "    circle1 = Circle(\"fancy\", 5)\n",
        "    print(circle1.calc_area())  #78.5\n",
        "    print(circle1.calc_perimeter())  #31.400000000000002\n",
        "\n",
        "    rectangle1 = Rectangle(\"lucky\", 3, 4)\n",
        "    print(rectangle1.calc_area())  #12\n",
        "    print(rectangle1.calc_perimeter())  #14\n",
        "\n",
        "if __name__ == '__main__':\n",
        "    main()"
      ],
      "execution_count": null,
      "outputs": [
        {
          "output_type": "stream",
          "text": [
            "78.5\n",
            "31.400000000000002\n",
            "12\n",
            "14\n"
          ],
          "name": "stdout"
        }
      ]
    },
    {
      "cell_type": "code",
      "metadata": {
        "id": "M8NC6MGanGCX",
        "scrolled": true,
        "colab": {
          "base_uri": "https://localhost:8080/"
        },
        "outputId": "3a4c056e-ce56-424c-89c9-ae99cfcacec9"
      },
      "source": [
        "# Coding 2 (Optional)\n",
        "\n",
        "class Polynomial:\n",
        "    def __init__(self, coeffs):\n",
        "        self.coeffs = coeffs\n",
        "\n",
        "    def create_poly(self):\n",
        "        expr_list = [\n",
        "            f'{self.coeffs[-i-1]}*x**{i}' for i in range(len(self.coeffs))]\n",
        "        expr_list.reverse()\n",
        "        expr = ' + '.join(expr_list)\n",
        "        self.expr_for_eval = expr\n",
        "        expr = expr.replace('**', '^').replace('*', '')[:-3]\n",
        "        self.pretty_expr = expr\n",
        "\n",
        "    def evaluate_at(self, num):\n",
        "        self.create_poly()\n",
        "        x = num\n",
        "        return eval(self.expr_for_eval)\n",
        "\n",
        "    def __str__(self):\n",
        "        self.create_poly()\n",
        "        return self.pretty_expr\n",
        "    \n",
        "    def __iadd__(self,other):\n",
        "        if len(self.coeffs) <= len(other.coeffs):\n",
        "            self.coeffs = [sum(x) for x in zip([0]*(len(other.coeffs)-len(self.coeffs))+self.coeffs,other.coeffs)]\n",
        "        else:\n",
        "            self.coeffs = [sum(x) for x in zip(self.coeffs,[0]*(len(self.coeffs)-len(other.coeffs))+other.coeffs)]\n",
        "\n",
        "        return self\n",
        "        \n",
        "\n",
        "def main():\n",
        "    # 1x^4 + 2x^3 + 3x^2 + 4x + 5\n",
        "    coeffs = [1,2,3,4,5]\n",
        "    poly = Polynomial(coeffs)\n",
        "    print(poly.evaluate_at(2))   # 57\n",
        "    print(poly.evaluate_at(3))   # 179\n",
        "    print(poly)  # Outputs: 1x^4 + 2x^3 + 3x^2 + 4x^1 + 5\n",
        "\n",
        "    # 4x^3 + 6x^2 + 8x^1 + 10\n",
        "    coeffs = [4,6,8,10]\n",
        "    poly2 = Polynomial(coeffs)\n",
        "    print(poly2)  # Outputs: 4x^3 + 6x^2 + 8x^1 + 10\n",
        "    poly += poly2\n",
        "    print(poly)  # Outputs: 1x^4 + 6x^3 + 9x^2 + 12x^1 + 15\n",
        "\n",
        "if __name__ == '__main__':\n",
        "    main()\n",
        "\n"
      ],
      "execution_count": null,
      "outputs": [
        {
          "output_type": "stream",
          "text": [
            "57\n",
            "179\n",
            "1x^4 + 2x^3 + 3x^2 + 4x^1 + 5\n",
            "4x^3 + 6x^2 + 8x^1 + 10\n",
            "1x^4 + 6x^3 + 9x^2 + 12x^1 + 15\n"
          ],
          "name": "stdout"
        }
      ]
    },
    {
      "cell_type": "markdown",
      "metadata": {
        "id": "ftYz8im4ncrX"
      },
      "source": [
        "# Additional Problem 1 Reverse Digit "
      ]
    },
    {
      "cell_type": "code",
      "metadata": {
        "id": "Dz8Uv035nm1c",
        "colab": {
          "base_uri": "https://localhost:8080/"
        },
        "outputId": "5eab7f62-ea0c-46a9-b3c0-e02f84a1a734"
      },
      "source": [
        "#Given a 32-bit signed integer, return the reversed digits of this integer.\n",
        "#Note:\n",
        "#Try to solve this problem using math equations. \n",
        "#Eg: don’t cast this number to str/list/etc.\n",
        "\n",
        "\n",
        "def reverse(x):\n",
        "    if x < 0:\n",
        "        sign = -1\n",
        "    else:\n",
        "        sign = 1\n",
        "    x *= sign\n",
        "    result = 0\n",
        "    i = 0\n",
        "    while x !=0:\n",
        "        result *= 10\n",
        "        result += (x%10) \n",
        "        x = x // 10\n",
        "    return result* sign\n",
        "\n",
        "# test case \n",
        "print(reverse(1200)) #21\n",
        "print(reverse(123)) #321\n",
        "print(reverse(-123)) #-321\n"
      ],
      "execution_count": null,
      "outputs": [
        {
          "output_type": "stream",
          "text": [
            "21\n",
            "321\n",
            "-321\n"
          ],
          "name": "stdout"
        }
      ]
    },
    {
      "cell_type": "markdown",
      "metadata": {
        "id": "lh1IeDhNo3YM"
      },
      "source": [
        "# Additional Problem 2"
      ]
    },
    {
      "cell_type": "code",
      "metadata": {
        "id": "HZ1PRJAUpB2v",
        "colab": {
          "base_uri": "https://localhost:8080/"
        },
        "outputId": "383c4d81-2c9d-40fc-c3d5-103533e18401"
      },
      "source": [
        "#Write a program to check whether a given number is a Funny number.\n",
        "#Funny numbers are positive numbers whose prime factors only include 2, 3, 5. \n",
        "#For example, 6, 8 are Funny while 14 is not Funny since it includes another prime factor 7.\n",
        "\n",
        "\n",
        "def isFunny(num):\n",
        "    while num/5 == int(num/5):\n",
        "      num = num/5\n",
        "    while num/3 == int(num/3) and num>1:\n",
        "      num = num/3\n",
        "    while num/2 == int(num/2) and num>1:\n",
        "      num = num/2\n",
        "    return num == 1\n",
        "\n",
        "\n",
        "\n",
        "\n",
        "\n",
        "\n",
        "# test case  \n",
        "print(isFunny(6)) #True   \n",
        "print(isFunny(8)) #True\n",
        "print(isFunny(14)) #False "
      ],
      "execution_count": 13,
      "outputs": [
        {
          "output_type": "stream",
          "text": [
            "True\n",
            "True\n",
            "False\n"
          ],
          "name": "stdout"
        }
      ]
    }
  ]
}